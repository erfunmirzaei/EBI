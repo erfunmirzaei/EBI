{
 "cells": [
  {
   "cell_type": "code",
   "execution_count": 1,
   "metadata": {},
   "outputs": [],
   "source": [
    "%load_ext autoreload\n",
    "%autoreload 2"
   ]
  },
  {
   "cell_type": "code",
   "execution_count": 2,
   "metadata": {},
   "outputs": [],
   "source": [
    "import pickle\n",
    "import json\n",
    "from typing import Union\n",
    "\n",
    "import scipy\n",
    "import numpy as np\n",
    "import matplotlib.pyplot as plt\n",
    "from matplotlib.axes import Axes\n",
    "from matplotlib.lines import Line2D\n",
    "import scienceplots\n",
    "plt.style.use(['science', 'std-colors'])\n",
    "#Options\n",
    "plt.rcParams['font.size'] = 9\n",
    "from simulation import SimulationData"
   ]
  },
  {
   "cell_type": "code",
   "execution_count": 3,
   "metadata": {},
   "outputs": [],
   "source": [
    "prop_cycle = plt.rcParams['axes.prop_cycle']\n",
    "colors = prop_cycle.by_key()['color']\n",
    "\n",
    "def plot_evals_distribution(ax: Axes, simulation: SimulationData, num_eigenvalues: int, kde_bw:float,  plot_settings = dict()):\n",
    "    true_eigvals = np.exp(-np.arange(num_eigenvalues))\n",
    "    \n",
    "    for val in true_eigvals[:3]:\n",
    "        ax.axvline(np.log(val), c='k', lw=1.0, alpha=0.5)\n",
    "    for val in true_eigvals[3:]:\n",
    "        ax.axvline(np.log(val), c='k', lw=0.5, alpha=0.3)\n",
    "\n",
    "    def kde(estimator:str, bandwidth = None):\n",
    "        evals = simulation.eigenvalues[estimator].real\n",
    "        evals = evals[np.greater(evals, 0)] #Dropping negative values\n",
    "        evals = np.log(evals)\n",
    "        evals = evals.ravel() #Flattening\n",
    "        return scipy.stats.gaussian_kde(evals, bw_method= bandwidth)\n",
    "\n",
    "    PCR_kde = kde('PCR', bandwidth = kde_bw)\n",
    "    RRR_kde = kde('RRR', bandwidth = kde_bw)\n",
    "\n",
    "    x = np.linspace(-num_eigenvalues, 1, 300)\n",
    "\n",
    "    ax.fill_between(x, PCR_kde(x), color= colors[0], alpha = 0.2)\n",
    "    ax.plot(x, PCR_kde(x), color= colors[0])\n",
    "\n",
    "    ax.fill_between(x, RRR_kde(x), color= colors[2], alpha = 0.2)\n",
    "    ax.plot(x, RRR_kde(x), color= colors[2])\n",
    "    ax.margins(0)\n",
    "\n",
    "    plot_configs = {\n",
    "        \"yticks\": [],\n",
    "        \"xticks\": np.arange(-(num_eigenvalues - 1), 1),\n",
    "        \"xticklabels\": [\"$e^{\" + str(i) + \"}$\" for i in np.arange(-(num_eigenvalues - 1), 1)],\n",
    "        \"xlim\": (-num_eigenvalues, 1)\n",
    "    }\n",
    "    plot_configs = plot_configs | plot_settings\n",
    "    ax.set(**plot_configs)"
   ]
  },
  {
   "cell_type": "code",
   "execution_count": 4,
   "metadata": {},
   "outputs": [
    {
     "data": {
      "image/png": "[encoded data removed]",
      "text/plain": [
       "<Figure size 677.532x120 with 3 Axes>"
      ]
     },
     "metadata": {},
     "output_type": "display_data"
    }
   ],
   "source": [
    "plot_instructions = [\n",
    "    { #Good\n",
    "        'path': 'data/HermitePoly_good_1140_19_1_23.pkl',\n",
    "        'num_evals': 6,\n",
    "        'plot_settings': {\n",
    "            'title': r\"{{\\it Good}} kernel\"\n",
    "        },\n",
    "        'kde_bw': 0.05\n",
    "    },\n",
    "    { #Bad\n",
    "        'path': 'data/HermitePoly_bad_1140_19_1_23.pkl',\n",
    "        'num_evals': 6,\n",
    "        'plot_settings': {\n",
    "            'title': r\"{{\\it Bad}} kernel\"\n",
    "        },\n",
    "        'kde_bw': 0.05\n",
    "    },\n",
    "    { #Ugly\n",
    "        'path': 'data/HermitePoly_ugly_1611_19_1_23.pkl',\n",
    "        'num_evals': 6,\n",
    "        'plot_settings': {\n",
    "            'title': r\"{{\\it Ugly}} kernel\"\n",
    "        },\n",
    "        'kde_bw': 0.005\n",
    "    }\n",
    "]\n",
    "\n",
    "pt_to_inch = 0.0138889\n",
    "width_pts = 487.8225\n",
    "width_inches = width_pts*pt_to_inch\n",
    "fig, axes = plt.subplots(ncols=3, figsize = (width_inches, 1.2))\n",
    "\n",
    "for idx, instructions in enumerate(plot_instructions):\n",
    "    with open(instructions['path'], 'rb') as f:\n",
    "        simulation = pickle.load(f)\n",
    "    ax = axes[idx]\n",
    "    plot_evals_distribution(\n",
    "        ax, \n",
    "        simulation, \n",
    "        instructions['num_evals'],\n",
    "        instructions['kde_bw'], \n",
    "        plot_settings=instructions['plot_settings']\n",
    "    )\n",
    "legend_elements = [\n",
    "    Line2D([0], [0], color=colors[2], label='Reduced Rank (RRR)'),\n",
    "    Line2D([0], [0], color=colors[0], label='Principal Components (PCR) a.k.a. EDMD')\n",
    "]\n",
    "fig.legend(handles = legend_elements, mode = 'expand', ncols = 2, bbox_to_anchor=(0.11, -0.2, 0.81, 0.2), loc='center')\n",
    "fig.savefig('figs/evals_distribution.pdf')"
   ]
  },
  {
   "attachments": {},
   "cell_type": "markdown",
   "metadata": {},
   "source": [
    "#### MISC reports"
   ]
  },
  {
   "cell_type": "code",
   "execution_count": null,
   "metadata": {},
   "outputs": [],
   "source": [
    "fig, ax = plt.subplots()\n",
    "\n",
    "true_eigvals = np.flip(np.exp(-np.arange(simulation.configs_dump['rank']*2)))\n",
    "PCR_s = np.sort(simulation.eigenvalues['PCR'].real, axis=1)\n",
    "RRR_s = np.sort(simulation.eigenvalues['RRR'].real, axis=1)\n",
    "\n",
    "\n",
    "for i in range(PCR_s.shape[1]):\n",
    "    ax.plot(RRR_s[:, i],'+', c=colors[2], ms = 5, label='RRR')\n",
    "    ax.plot(PCR_s[:, i],'.', c=colors[0], ms = 2, label='PCR')\n",
    "\n",
    "for val in true_eigvals:\n",
    "    ax.axhline(val, c='k', lw=0.5, alpha=0.7)\n",
    "\n",
    "ax.margins(x=0)\n",
    "ax.set_ylabel(r\"Estimated eigenvalues $\\hat{\\lambda}_{i}$\")\n",
    "ax.set_xlabel(\"Independent Simulation \\\\#\")\n",
    "ax.set_yscale('log')\n",
    "\n",
    "legend_elements = [\n",
    "    Line2D([0], [0], color='k', lw=0.5, alpha=0.7, label='True eigenvalues'),\n",
    "    Line2D([0], [0], marker = '+', color=colors[2], ms = 5, lw=0, label='Reduced rank regression'),\n",
    "    Line2D([0], [0], marker = '.', color=colors[0], ms = 2, lw=0, label='Principal component regression')\n",
    "    ]\n",
    "ax.legend(handles=legend_elements, frameon=True, framealpha=1, loc='lower center')\n",
    "ax.set_ylim(2e-4, 1.5)\n",
    "ax.set_title(\"Estimation of the largest eigenvalues\")\n",
    "fig.savefig(\"figs/evals_bias.pdf\")"
   ]
  }
 ],
 "metadata": {
  "kernelspec": {
   "display_name": "kooplearn_examples",
   "language": "python",
   "name": "python3"
  },
  "language_info": {
   "codemirror_mode": {
    "name": "ipython",
    "version": 3
   },
   "file_extension": ".py",
   "mimetype": "text/x-python",
   "name": "python",
   "nbconvert_exporter": "python",
   "pygments_lexer": "ipython3",
   "version": "3.10.8"
  },
  "orig_nbformat": 4,
  "vscode": {
   "interpreter": {
    "hash": "3b63db8fbbde3c8307817e3f40b0a9fbe7c611789d86c3cf61e0b4c1406a6c29"
   }
  }
 },
 "nbformat": 4,
 "nbformat_minor": 2
}
